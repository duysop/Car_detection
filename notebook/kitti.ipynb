{
 "cells": [
  {
   "cell_type": "code",
   "execution_count": 1,
   "metadata": {},
   "outputs": [],
   "source": [
    "import cv2\n",
    "import matplotlib.pyplot as plt\n",
    "import numpy as np\n",
    "from skimage.feature import hog\n",
    "import os\n",
    "import sys\n",
    "sys.path.append(\"..\")\n",
    "from utils.detector import sliding_window\n",
    "from utils.data import iou\n",
    "from tqdm import tqdm"
   ]
  },
  {
   "cell_type": "code",
   "execution_count": 2,
   "metadata": {},
   "outputs": [],
   "source": [
    "img_path = \"../raw/image_kitti/\"\n",
    "label_path = \"../raw/label_kitti/\""
   ]
  },
  {
   "cell_type": "code",
   "execution_count": 3,
   "metadata": {},
   "outputs": [],
   "source": [
    "ignore = [\"Pedestrian\", \"Person_sitting\", \"Cyclist\", \"Tram\", \"DontCare\"]"
   ]
  },
  {
   "cell_type": "code",
   "execution_count": 4,
   "metadata": {},
   "outputs": [],
   "source": [
    "def crop(img, p1, p2):\n",
    "    x1, y1 = p1\n",
    "    x2, y2 = p2\n",
    "    return img[ y1 : y2, x1: x2,:]"
   ]
  },
  {
   "cell_type": "code",
   "execution_count": 14,
   "metadata": {},
   "outputs": [],
   "source": [
    "from math import ceil\n",
    "label_dict = dict()\n",
    "def to_int_array(array):\n",
    "    return [ceil(float(x)) for x in array]\n",
    "for img_label_name in os.listdir(label_path):\n",
    "    index = img_label_name.split(\".\")[0]\n",
    "    img_label_path = label_path + img_label_name\n",
    "    with open(img_label_path, \"r\") as file:\n",
    "        data = [line.strip().split(\" \") for line in file.readlines()] \n",
    "        data = [ (entry[0], to_int_array(entry[4:8])) for entry in data if entry[0] not in ignore]\n",
    "        label_dict[index] = data"
   ]
  },
  {
   "cell_type": "code",
   "execution_count": 15,
   "metadata": {},
   "outputs": [
    {
     "data": {
      "text/plain": [
       "[('Truck', [600, 157, 630, 190]), ('Car', [388, 182, 424, 204])]"
      ]
     },
     "execution_count": 15,
     "metadata": {},
     "output_type": "execute_result"
    }
   ],
   "source": [
    "label_dict['000001']"
   ]
  },
  {
   "cell_type": "code",
   "execution_count": 16,
   "metadata": {},
   "outputs": [],
   "source": [
    "save_path = \"test_case/\"\n",
    "window_size = (104, 56)"
   ]
  },
  {
   "cell_type": "code",
   "execution_count": 20,
   "metadata": {},
   "outputs": [
    {
     "name": "stderr",
     "output_type": "stream",
     "text": [
      "7481it [03:02, 40.95it/s]\n"
     ]
    }
   ],
   "source": [
    "for index, img_name in tqdm(enumerate(os.listdir(img_path))):\n",
    "    img = cv2.imread(img_path + img_name, cv2.IMREAD_UNCHANGED)\n",
    "    img_index = img_name.split(\".\")[0]\n",
    "    for i, entry in enumerate(label_dict[img_index]):\n",
    "        box = entry[1]\n",
    "        croped_img = crop(img, (box[0], box[1]), (box[2], box[3]))\n",
    "        if croped_img.shape[1] < window_size[0] or croped_img.shape[0] < window_size[1]:\n",
    "            continue\n",
    "        resized = cv2.resize(croped_img, window_size, interpolation = cv2.INTER_AREA)\n",
    "        cv2.imwrite(save_path + str(index) + \"_\" + str(i) + '.jpg', resized)"
   ]
  }
 ],
 "metadata": {
  "kernelspec": {
   "display_name": "cv",
   "language": "python",
   "name": "python3"
  },
  "language_info": {
   "codemirror_mode": {
    "name": "ipython",
    "version": 3
   },
   "file_extension": ".py",
   "mimetype": "text/x-python",
   "name": "python",
   "nbconvert_exporter": "python",
   "pygments_lexer": "ipython3",
   "version": "3.9.5 (default, May 18 2021, 14:42:02) [MSC v.1916 64 bit (AMD64)]"
  },
  "orig_nbformat": 4,
  "vscode": {
   "interpreter": {
    "hash": "402b26ea61f2e9ab2f33ac89d0e890fa4a6627eca32b486fc07d8a98e1d3831f"
   }
  }
 },
 "nbformat": 4,
 "nbformat_minor": 2
}
